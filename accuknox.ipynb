{
 "cells": [
  {
   "cell_type": "markdown",
   "metadata": {},
   "source": [
    "Question 1: \n",
    "\n",
    "By default are django signals executed synchronously or asynchronously? Please support your answer with a code snippet that conclusively proves your stance. The code does not need to be elegant and production ready, we just need to understand your logic.\n"
   ]
  },
  {
   "cell_type": "markdown",
   "metadata": {},
   "source": [
    "Answer:-\n",
    " \n",
    " By default, Django signals are executed synchronously. This means when a signal is triggered, the code that called the signal waits until the signal finishes whatever it’s doing. For example, if you’re saving a user and there’s a signal to send a welcome email, it’ll wait for that email to be processed before moving on."
   ]
  },
  {
   "cell_type": "code",
   "execution_count": null,
   "metadata": {},
   "outputs": [],
   "source": [
    "from django.db.models.signals import post_save\n",
    "from django.dispatch import receiver\n",
    "from django.contrib.auth.models import User\n",
    "\n",
    "@receiver(post_save, sender=User)\n",
    "def user_saved(sender, instance, created, **kwargs):\n",
    "    if created:\n",
    "        print(f\"New user created: {instance.username}\")\n"
   ]
  },
  {
   "cell_type": "markdown",
   "metadata": {},
   "source": [
    "Question 2: \n",
    "\n",
    "Do django signals run in the same thread as the caller? Please support your answer with a code snippet that conclusively proves your stance. The code does not need to be elegant and production ready, we just need to understand your logic."
   ]
  },
  {
   "cell_type": "markdown",
   "metadata": {},
   "source": [
    "Answer: \n",
    "\n",
    "Yes, Django signals run in the same thread as the code that called them. So, if you’re running something like saving a user in one thread, the signal will also be processed in that same thread. No fancy threading here by default."
   ]
  },
  {
   "cell_type": "code",
   "execution_count": null,
   "metadata": {},
   "outputs": [],
   "source": [
    "import threading\n",
    "from django.db.models.signals import post_save\n",
    "from django.dispatch import receiver\n",
    "from django.contrib.auth.models import User\n",
    "\n",
    "@receiver(post_save, sender=User)\n",
    "def user_saved(sender, instance, created, **kwargs):\n",
    "    print(f\"Signal handled in thread: {threading.current_thread().name}\")\n",
    "\n",
    "print(f\"Main thread: {threading.current_thread().name}\")\n",
    "User.objects.create(username=\"testuser\")\n"
   ]
  },
  {
   "cell_type": "markdown",
   "metadata": {},
   "source": [
    "Question 3: \n",
    "\n",
    "By default do django signals run in the same database transaction as the caller? Please support your answer with a code snippet that conclusively proves your stance. The code does not need to be elegant and production ready, we just need to understand your logic."
   ]
  },
  {
   "cell_type": "markdown",
   "metadata": {},
   "source": [
    "Answer: \n",
    "\n",
    "Yes, Django signals typically run inside the same transaction. This means that if you’re saving data to the database and something goes wrong (like a transaction failure), the signal won’t run. The signal only gets triggered when the transaction completes successfully."
   ]
  },
  {
   "cell_type": "code",
   "execution_count": null,
   "metadata": {},
   "outputs": [],
   "source": [
    "from django.db import transaction\n",
    "from django.db.models.signals import post_save\n",
    "from django.dispatch import receiver\n",
    "from django.contrib.auth.models import User\n",
    "\n",
    "@receiver(post_save, sender=User)\n",
    "def user_saved(sender, instance, created, **kwargs):\n",
    "    print(f\"User {instance.username} created successfully.\")\n",
    "\n",
    "try:\n",
    "    with transaction.atomic():\n",
    "        user = User.objects.create(username=\"newuser\")\n",
    "        raise Exception(\"Simulating an error!\")\n",
    "except:\n",
    "    print(\"Transaction failed, signal not triggered.\")\n"
   ]
  },
  {
   "cell_type": "markdown",
   "metadata": {},
   "source": [
    "In simpler terms:\n",
    "\n",
    "Django signals are synchronous by default.\n",
    "\n",
    "They run in the same thread as the rest of the code.\n",
    "\n",
    "They only run after the database transaction is successfully completed."
   ]
  },
  {
   "cell_type": "markdown",
   "metadata": {},
   "source": [
    "2. Description: You are tasked with creating a Rectangle class with the following requirements:\n",
    "\n",
    "An instance of the Rectangle class requires length:int and width:int to be initialized.\n",
    "\n",
    "We can iterate over an instance of the Rectangle class \n",
    "When an instance of the Rectangle class is iterated over, we first get its length in the format: {'length': <VALUE_OF_LENGTH>} followed by the width {width: <VALUE_OF_WIDTH>}\n"
   ]
  },
  {
   "cell_type": "code",
   "execution_count": 2,
   "metadata": {},
   "outputs": [
    {
     "name": "stdout",
     "output_type": "stream",
     "text": [
      "{'length': 10}\n",
      "{'width': 5}\n"
     ]
    }
   ],
   "source": [
    "class Rectangle:\n",
    "    def __init__(self, length: int, width: int):\n",
    "        self.length = length\n",
    "        self.width = width\n",
    "\n",
    "    def __iter__(self):\n",
    "        yield {'length': self.length}\n",
    "        yield {'width': self.width}\n",
    "\n",
    "\n",
    "rect = Rectangle(10, 5)\n",
    "for item in rect:\n",
    "    print(item)\n"
   ]
  },
  {
   "cell_type": "markdown",
   "metadata": {},
   "source": [
    "Explanation:\n",
    "\n",
    "Initialization: The __init__ method initializes the length and width attributes when you create a new instance of the class.\n",
    "\n",
    "Iterable Behavior: The __iter__ method makes the Rectangle class iterable by using yield to return the length first and then the width."
   ]
  }
 ],
 "metadata": {
  "kernelspec": {
   "display_name": "Python 3",
   "language": "python",
   "name": "python3"
  },
  "language_info": {
   "codemirror_mode": {
    "name": "ipython",
    "version": 3
   },
   "file_extension": ".py",
   "mimetype": "text/x-python",
   "name": "python",
   "nbconvert_exporter": "python",
   "pygments_lexer": "ipython3",
   "version": "3.12.0"
  }
 },
 "nbformat": 4,
 "nbformat_minor": 2
}
